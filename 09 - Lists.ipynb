{
  "cells": [
    {
      "metadata": {},
      "cell_type": "markdown",
      "source": "# Lists \nIn this section, we will start to look at some of the data structures that are available in Python. Up to this point, we’ve been using rather simple structures for storing data in our applications. Though variable can point to any data object, our applications have been storing numbers, characters and more recently strings. As you write more complex applications you will find yourself needing to keep track of increasingly complex data.   Python has three data structures that will help with these tasks: lists, tuples and dictionaries. \n\nLike string, a list is a sequence of values. However, in a string, the sequence is made up of characters while lists can be a sequence of any kind of value. Also, a string will contain only characters in the sequence while lists can include characters, numbers, strings or even other lists. \n\nmyString = \"Whether I shall turn out to be the hero\" \nmyList = ['Whether','I','shall','turn','out','to','be','the','hero'] \naList = ['Charles Dickens', 'm', 58, [1812, 1870]] \nemptyList = [] \n\n \n\nThese examples show how strings and lists are related and how they are different. The first variable is a string, the second variable is a list of words (or a list of strings). The third variable is a mixed type list which includes a string, a character, a number and a list of numbers. \n\nWhen we print the each list, we can see how Python treats lists and strings differently. \n\nprint(myString) \nprint(myList) \nprint(myString.split(\" \")) \nprint(aList) \nprint(emptyList) \n\n \n\n## Accessing Lists \n\n### Referencing\nTo access a specific element in a list, you use the bracket notation. Remembering that the index of a list element starts at zero, you can reference individual elements in a list in the following ways. \n\nprint(aList[0]) \nprint(aList[2]) \nprint(aList[3][1]) \n\n \n\nThe first line prints the first element in the list. This is element is a string and it is located at the zero index. The second line prints the value of the third element (index = 2), a number. The third line prints the second element (index = 1) from the list in the 4th position of our list. The third line illustrates how lists can be hierarchal such that lists can be stored in lists. \n\n### Traversing\nBecause lists are sequences, the most straight-forward method for accessing elements in a list is to traverse each element using a for or while loop. In this way you can access each element and process that element before moving to the next. \n\nfor aItem in aList: \n    print(\"Item:\", aItem) \n \nindex = 0 \nwhile index < len(aList): \n    aItem = aList[index]) \n    print(\"Item:\", aItem) \n    index += 1 \n\n \n\nIn the first loop, python loops through each element and sets the variable aItem equal to the current element in the list. In the second loop, python loops until the index iterator becomes equal to the current length of the list. In each iteration of the loop, the aItem variable is reset to a specific element in the list as indicated by the current value of the index iterator. \n\n## Modifying Lists\nUnlike strings, which are immutable, lists are flexible and you can add and remove elements and transform lists in a variety of ways. \n\n### Adding Elements\nWhen adding elements to a list, you can add individual elements or you can add a list of elements. You will need to pay attention to what you are trying to do so that you don’t end up with unexpected results. \n\naList.append(\"Author\") \nprint(aList) \nnovelsList = [\"Great Expectations\", \"David Copperfiled\", \"Tale of Two Cities\"] \nprint(aList) \n\naList.extend(novelsList) \nprint(aList) \naList += novelList \n\naList.append(novelsList) \nprint(aList) \n\n \n\nThe method for adding elements to a list is the .append() method. This method will take any value or object and add it as an element in the list. This means that numbers, letters, strings and lists will be added as a new element to the list. The .extend() adds elements from one list to the extending list. So if a list is appended to a list, it is entered as a new element. If it is extended to a list, all of its elements are added as elements to the new list. The + operator functions as the extend method where both operands are lists and all items are merged to create a new list.   \n\n### Deleting Elements\nElements are deleted from a list using the .pop() and remove() method and by using the del keywork. Both .pop() and del are index-based deletion mechanisms while .remove() is a value-based removal. \n\naList.pop() \nprint(aList) \naList.pop(2) \nprint(aList) \ndel aList[0] \nprint(aList) \naList.remove(\"m\") \nprint(aList) \n\n \n\n \n\nThe first example simply pops the first element off of the list. If a number value is provided to the .pop() method, it will pop the element at that index off of the list. In this case, we use the index 2 which is the third element in the list. The del keyword is a python keyword which deletes a reference to a value. If we use del and the name of our list, it will delete the entire list. If we use an index value, it will delete the element at that index. The .remove() method removes elements that match a given value. So, when I use the “m” value with the remove function, it searches the list for items that match that value, and deletes them.  \n\n### List Operations\nBeyond adding and removing elements, there are additional operations that similarly mutate lists. The * operator can be used to duplicate lists and the : operator can be used to slice lists. \n\nmyList = myList * 3 \nprint(myList) \nmyList = myList[:int(len(myList)/3)] \nprint(myList) \n\n \n\n### List Methods\nLike strings, certain methods are available for mutating lists. Two commonly used methods are .sort() and .reverse(). The sort method sorts the elements in the list alphabetically. This method is sensitive to the content of the list elements and will give an error if you try to sort a list that contains mixed elements, such as numbers and characters or data structures. The reverse method simply reverses the order of the elements in the list. The reverse method ignores element value type and simply reverses each elements position in the list. \n\nmyList.sort() \nprint(myList) \naList.reverse() \nprint(aList) \n\n \n\n### List Functions\nList functions differ from methods in that they do not mutate the list, but simply provide some use information about the list or operation on the list elements. Common list functions include len(), min(), max() and sum(). The len() function counts the number of elements in a list. Min/Max calculates the minimum/maximum value (either numerically or alphabetically) in the list. The sum function calculates the sum of the numbers in a list. \n\nprint(max(myList)) \nlengthList = [] \nfor word in myList: \n    lengthList.append(len(word)) \nprint(lengthList) \n\n "
    }
  ],
  "metadata": {
    "kernelspec": {
      "name": "python3",
      "display_name": "Python 3",
      "language": "python"
    },
    "language_info": {
      "mimetype": "text/x-python",
      "nbconvert_exporter": "python",
      "name": "python",
      "pygments_lexer": "ipython3",
      "version": "3.5.4",
      "file_extension": ".py",
      "codemirror_mode": {
        "version": 3,
        "name": "ipython"
      }
    },
    "toc": {
      "nav_menu": {},
      "number_sections": true,
      "sideBar": true,
      "skip_h1_title": false,
      "base_numbering": 1,
      "title_cell": "Table of Contents",
      "title_sidebar": "Contents",
      "toc_cell": false,
      "toc_position": {},
      "toc_section_display": true,
      "toc_window_display": true
    }
  },
  "nbformat": 4,
  "nbformat_minor": 2
}
