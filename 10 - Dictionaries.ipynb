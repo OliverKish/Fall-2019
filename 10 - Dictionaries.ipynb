{
  "cells": [
    {
      "metadata": {},
      "cell_type": "markdown",
      "source": "# Dictionaries \nIn this section, start to look at dictionaries and their similarities and differences from lists.  \n\nLike lists, a collection of values. However, in a list, the elements are organized as a sequence of elements. In a dictionary they are organized as a collection of elements. This means that there is no order to a dictionary in the way that list elements are ordered. Like a list, dictionaries can include characters, numbers, strings or even other lists/dictionaries. \n\nmyList = ['Whether','I','shall','turn','out','to','be','the','hero'] \nmyDict = {'Whether','I','shall','turn','out','to','be','the','hero'} \nemptyDict = {} \n\n \n\nThese examples show how dictionaries and lists are related and how they are different. The first variable is a list of words, the second variable is a dictionary of words. While this obscures the value of dictionaries, it illustrates how dictionaries and lists are similar. What sets dictionaries apart from lists is the flexibility afforded by organizing elements by keys instead of by position. For example, in a list, elements are ordered and you need to know the position of an element to be able to access the value stored in that position. In dictionaries, values are stored by a key value. Consider the following values: \n\naList = ['Charles Dickens', 'm', 58, [1812, 1870]] \naDict = {'name':'Charles Dickens', 'gender':'m', 'age':58, 'life_range':[1812, 1870]} \n\n \n\nIn the first example, the elements are simply stored in an ordered list and you need to know the position of each element to access it. If the list changes, your application will have to keep track of these changes so that it doesn’t lose access to values. In the second example, the values are stored in a contextual list. Regardless of how the dictionary changes over time, you will always be able to access the value of the author’s name by referring to the ‘name’ key. \n\n## Accessing Dictionaries \n\n### Referencing\nTo access a specific element in a list, you use the bracket notation. You use the same notation for dicationaries, but dictionaries are unordered which means that the index position of an element is meaningless. Instead of using an index to reference a value, you use a key. \n\nprint(aList[0]) \nprint(aDict['name']) \nprint(f\"{aList[0]} died in {aList[3][1]} at age {aList[2]}\") \nprint(f\"{aDict['name']} died in {aDict['life_range'][1]} at age {aDict['age']}\") \n\n \n\nThe first line prints the first element in the list. The second line prints the element that is associated with the ‘name’ key. The values are the same but the means of accessing the values differs.  \n\n### Traversing\nWhen traversing a list, the pointer starts at the first item and retrieves each item in order. When traversing a dictionary, the pointer starts at the first key and traverses each key.  \n\nfor aItem in aList: \n    print(\"Item:\", aItem) \n \nfor aKey in aDict: \n    print(\"Key:\", aKey) \n    print(\"Value:\", aDict[aKey]) \n\n \n\nIn the first loop, python loops through each element and sets the variable aItem equal to the current element in the list. In the second loop, python loops through each key and sets the aKey variable equal to the value of the key. Elements in the dictionary are then accessible via the retrieved key. \n\n## Modifying Dictionaries\nDictionaries are malleable in many of the same ways that lists are malleable. You can add and delete items. Many of the methods associated with lists are available to dictionaries as well. \n\n### Adding Elements\nWhen adding elements to a dictionary,  you start by adding a key. Because dictionaries are unordered, it doesn’t make sense to add an element without an associated key.  \n\naDict['occupation'] = 'writer' \naDict.setdefault('nationality', 'English') \nnovelsList = [\"Great Expectations\", \"David Copperfiled\", \"Tale of Two Cities\"] \naDict['novels'] = novelsList \n\n \n\nAs with lists, you can add strings, numbers, lists or even other dictionaries. The .setdefault method creates a new key and gives it an initial value. It can be useful to use if you are unsure whether a key exists. If it doesn’t exist, .setdefault will create it with an initial value. If it does exist it will leave the key and its value alone. When referencing elements in a dictionary, you can edit those elements just as if they were individual variables. \n\naDict['novels'].append(\"Bleak House\") \nfor key in aDict: \n    print(key, \"->\", aDict[key]) \n\n \n\n### Deleting Elements\nIn dictionaries, elements are deleted when keys are deleted. The .pop method accepts a key value as input and it searches for the key and deletes the reference to it. \n\naList.pop(1) \naDict.pop('gender') \nprint(f\"{aList[0]} died in {aList[3][1]} at age {aList[2]}\") \nprint(f\"{aDict['name']} died in {aDict['life_range'][1]} at age {aDict['age']}\") \n\n \n\nThe code above illustrates an advantage of dictionaries. Because the dictionary is unordered, changes to the contents of a dictionary do not affect the ways in which you reference other elements in the data structure. \n\n### Dictionary Methods\nDictionaries share most of their methods with lists, but there are two useful methods that are unique to dictionaries: .keys() and .values(). The .keys() method returns a list of all keys in the dictionary. This method is not recursive (meaning it won’t return the keys of a dictionary inside a dictionary), and will only show the keys of the elements at the root level of the specified dictionary. Similarly, the .values() method returns a list of all values represented in the dictionary. This will return all values in the dictionary including those in subdictionaries, but all lower-level data elements will maintain their structure. \n\nprint(aDict.keys()) \nif 'gender' in aDict.keys(): \n    print(True) \nelse: \n    print(False) \nprint(aDict.values()) \nif 'writer' in aDict.values(): \n    print(True) \nelse: \n    print(False) \n\n \n\nThe .keys() method is particularly useful because, as discussed above, referencing a key that does not exist will raise an exception in your code. Therefore, the .setdefault() and .keys() methods both provide a mechanism for verifying the existence of keys without causing an error. "
    }
  ],
  "metadata": {
    "toc": {
      "nav_menu": {},
      "number_sections": true,
      "sideBar": true,
      "skip_h1_title": false,
      "base_numbering": 1,
      "title_cell": "Table of Contents",
      "title_sidebar": "Contents",
      "toc_cell": false,
      "toc_position": {},
      "toc_section_display": true,
      "toc_window_display": true
    },
    "kernelspec": {
      "name": "python2",
      "display_name": "Python 2",
      "language": "python"
    },
    "language_info": {
      "mimetype": "text/x-python",
      "nbconvert_exporter": "python",
      "name": "python",
      "pygments_lexer": "ipython2",
      "version": "2.7.15",
      "file_extension": ".py",
      "codemirror_mode": {
        "version": 2,
        "name": "ipython"
      }
    }
  },
  "nbformat": 4,
  "nbformat_minor": 2
}