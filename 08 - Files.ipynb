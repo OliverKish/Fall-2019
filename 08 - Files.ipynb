{
  "cells": [
    {
      "metadata": {},
      "cell_type": "markdown",
      "source": "# Files \nUp to this point, we have been using data values that are either entered by the user or are persistent in our programs. This limits the types of tasks our applications can handle. In this chapter we will learn how to use python to interface with external files. We will learn how to open files, read files line-by-line and write data to new or existing files. \n\n## Opening Files\nBecause python is an interpreted language, interfacing with the operating system is handled by the interpreter. Therefore, when files are ‘opened’ python requests a file handler that acts as a middleman between python and the file. If you think of it from an ownership perspective, python owns the commands in python and the operating system owns the files stored on the computer. Neither really understands how to interact with one-another, so a middleman is needed to translate python’s requests into directions the operating system understands. \n\nwith open('random_numbers.txt') as fileHandler: \n"
    },
    {
      "metadata": {
        "trusted": true
      },
      "cell_type": "code",
      "source": "with open('support/random_numbers.txt') as fileHandler: \n    print(fileHandler)",
      "execution_count": null,
      "outputs": []
    },
    {
      "metadata": {},
      "cell_type": "markdown",
      "source": "The **with** keyword above provides a safe way of working with files because files must be opened and closed to ensure data integrity. If your code crashes after you open the file, the file may be left open and may be corrupted. The with statement ensures that files are closed when the with block of code completes. For indentation purposes, code that needs access to the file handler should be indented one level beyond the indentation level of the with (just like conditional and iteration blocks).  \n\n## Reading files\nThere are several mechanisms for reading from files. The first, and probably easiest, is to treat the file handler as an iterable list where each iteration through the for loop produces the next line of text from the source file. The code below reads the text one line at a time and exits the for loop when there are no lines left to read. "
    },
    {
      "metadata": {
        "trusted": true
      },
      "cell_type": "code",
      "source": "with open('support/random_numbers.txt') as fileHandler: \n    for line in fileHandler: \n        print(line) ",
      "execution_count": null,
      "outputs": []
    },
    {
      "metadata": {},
      "cell_type": "markdown",
      "source": "Notice that this code seems to put an additional return after every line. This is because each line in the source file has a newline character (\\n) at the end of it, and the print function automatically appends a newline character to the end of printed statements. Therefore, it will be good practice to use the .rstrip() method to clean any extra returns from the line we’ve read from the source file. "
    },
    {
      "metadata": {
        "trusted": true
      },
      "cell_type": "code",
      "source": "with open('support/random_numbers.txt') as fileHandler: \n    for line in fileHandler: \n        cleanLine = line.rstrip() \n        print(cleanLine) ",
      "execution_count": null,
      "outputs": []
    },
    {
      "metadata": {},
      "cell_type": "markdown",
      "source": "You can also read one line using the .readline() method. "
    },
    {
      "metadata": {
        "trusted": true
      },
      "cell_type": "code",
      "source": "with open('support/random_numbers.txt') as fileHandler: \n    line = fileHandler.readline() \n    cleanLine = line.rstrip() \n    print(cleanLine) ",
      "execution_count": null,
      "outputs": []
    },
    {
      "metadata": {},
      "cell_type": "markdown",
      "source": "Or, you can read the entire files into a variable. "
    },
    {
      "metadata": {
        "trusted": true
      },
      "cell_type": "code",
      "source": "with open('support/random_numbers.txt') as fileHandler: \n    lines = fileHandler.read() \n    cleanLines = lines.rstrip() \n    print(cleanLines) ",
      "execution_count": null,
      "outputs": []
    },
    {
      "metadata": {},
      "cell_type": "markdown",
      "source": "## Searching a file\nWhen searching a file, it is often best to scan the file line-by-line. This will prevent any memory or storage issues if you are trying to process a very large data file (>1GB). For small files, it may be easiest to simply read in the entire file, but I would recommend you tailor your thinking to a line-by-line processing approach as it is a more generic, portable approach. "
    },
    {
      "metadata": {
        "trusted": true
      },
      "cell_type": "code",
      "source": "with open('support/random_numbers.txt') as fileHandler: \n    for line in fileHandler: \n        cleanLine = line.rstrip() \n        if len(cleanLine) > 10: \n            print(\"this line is longer than 25 characters:\") \n            print(cleanLine) ",
      "execution_count": null,
      "outputs": []
    },
    {
      "metadata": {},
      "cell_type": "markdown",
      "source": "Your search for content needs to be aware of the fact that lines read in from a file are always read in as a string. Therefore, if you expect numbers, you will need to take the necessary steps to convert the content into a numeric form. The code above checks the length of the line to verify it is longer than 10 characters. If we wanted to convert the line to a list and then check for lines with more than 10 items, we would do this: "
    },
    {
      "metadata": {
        "trusted": true
      },
      "cell_type": "code",
      "source": "with open('support/random_numbers.txt') as fileHandler: \n    for line in fileHandler: \n        cleanLine = line.rstrip() \n        numList = cleanLine.split(\",\") \n        if len(numList) > 10: \n            print(\"this line has more than 10 list items:\") \n            print(numList) ",
      "execution_count": null,
      "outputs": []
    },
    {
      "metadata": {},
      "cell_type": "markdown",
      "source": "Because we are going line by line, we may need to aggregate content from different areas in the file. If we wanted to collect all the numbers greater than 500 in to a list, we would do the following:  "
    },
    {
      "metadata": {
        "trusted": true
      },
      "cell_type": "code",
      "source": "bigNumList = [] \nwith open('support/random_numbers.txt') as fileHandler: \n    for line in fileHandler: \n        cleanLine = line.rstrip() \n        numList = cleanLine.split(\",\") \n        for num in numList: \n            if int(num) > 500: \n                bigNumList.append(int(num)) \nprint(bigNumList) ",
      "execution_count": null,
      "outputs": []
    },
    {
      "metadata": {},
      "cell_type": "markdown",
      "source": "## Writing a file\nAny time our application processes data, we will probably want to save the results in some format. To save them as a text file, we would simply use the write() method of our file handler to send data to our file just as we would use the print() function to send data to the console. "
    },
    {
      "metadata": {
        "trusted": true
      },
      "cell_type": "code",
      "source": "with open('support/big_numbers.txt', 'w') as fileHandler: \n    for bigNum in bigNumList: \n        fileHandler.write(str(bigNum) + \"\\n\") ",
      "execution_count": null,
      "outputs": []
    },
    {
      "metadata": {},
      "cell_type": "markdown",
      "source": "In the code above, we create a file handler using the ‘w’ option which tells the operating system to open the file for the purpose of writing data to it. Be careful with the ‘w’ option because it will erase the content of the file if the file already exists. Otherwise, it will create the file. Also note the use of the str() method when writing to our file. Python can only write strings so any attempt to write an integer will result in a type conflict error. Finally, I append the newline character to the end of each line. This forces each number to a newline in our file. Without this character, all of the numbers would have appeared on the same line. "
    }
  ],
  "metadata": {
    "kernelspec": {
      "name": "python3",
      "display_name": "Python 3",
      "language": "python"
    },
    "language_info": {
      "mimetype": "text/x-python",
      "nbconvert_exporter": "python",
      "name": "python",
      "pygments_lexer": "ipython3",
      "version": "3.5.4",
      "file_extension": ".py",
      "codemirror_mode": {
        "version": 3,
        "name": "ipython"
      }
    },
    "toc": {
      "nav_menu": {},
      "number_sections": true,
      "sideBar": true,
      "skip_h1_title": false,
      "base_numbering": 1,
      "title_cell": "Table of Contents",
      "title_sidebar": "Contents",
      "toc_cell": false,
      "toc_position": {},
      "toc_section_display": true,
      "toc_window_display": true
    }
  },
  "nbformat": 4,
  "nbformat_minor": 2
}