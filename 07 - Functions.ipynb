{
  "cells": [
    {
      "metadata": {},
      "cell_type": "markdown",
      "source": "# Functions\nA function is a named sequence of statements that performs some programmatic task. Functions extend the functionality of python by packaging a series of statements as flexible, reusable blocks of code. Though the usefulness of functions is difficult to see, functions have several important advantages: 1) functions make your program easier to read, understand, and debug; 2) functions make a program smaller by eliminating repetitive code; 3) functions increase the reusability of your code. \n\nPython has built-in and user-defined functions. These functions are called and they take arguments and have a return value. Arguments are variables that are provided as reference values for the function. The variable passed as an argument is copied to a new variable that is temporarily created for use in the function (this copy is called a local variable, meaning that it is local to the function and any changes to it are confined to the local function and do not affect the original variable). Functions may return a value to the calling program. This is called the return value. When a value is returned, the function ends and the return value becomes accessible in the calling program/function (note: functions can call other functions).\n## Built-in Functions\nPython has many built-in functions that are either included in the base language or are accessible via libraries. Some common functions are listed below. Others can be found here: https://docs.python.org/3.6/library/functions.html"
    },
    {
      "metadata": {
        "trusted": true
      },
      "cell_type": "code",
      "source": "myFloat = 3.14159\nmyInt = 7\nmyString = \"Jake London\"\nmyList = [8,2, 1979]",
      "execution_count": 2,
      "outputs": []
    },
    {
      "metadata": {},
      "cell_type": "markdown",
      "source": "### abs()\nabs() returns the absolute value of a number"
    },
    {
      "metadata": {
        "trusted": true
      },
      "cell_type": "code",
      "source": "abs(10)",
      "execution_count": 13,
      "outputs": [
        {
          "output_type": "execute_result",
          "execution_count": 13,
          "data": {
            "text/plain": "10"
          },
          "metadata": {}
        }
      ]
    },
    {
      "metadata": {
        "trusted": true
      },
      "cell_type": "code",
      "source": "abs(-10) ",
      "execution_count": 14,
      "outputs": [
        {
          "output_type": "execute_result",
          "execution_count": 14,
          "data": {
            "text/plain": "10"
          },
          "metadata": {}
        }
      ]
    },
    {
      "metadata": {
        "trusted": true
      },
      "cell_type": "code",
      "source": "abs(myFloat) ",
      "execution_count": 15,
      "outputs": [
        {
          "output_type": "execute_result",
          "execution_count": 15,
          "data": {
            "text/plain": "3.14159"
          },
          "metadata": {}
        }
      ]
    },
    {
      "metadata": {
        "trusted": true
      },
      "cell_type": "code",
      "source": "abs(myFloat * -3) ",
      "execution_count": 17,
      "outputs": [
        {
          "output_type": "execute_result",
          "execution_count": 17,
          "data": {
            "text/plain": "9.424769999999999"
          },
          "metadata": {}
        }
      ]
    },
    {
      "metadata": {},
      "cell_type": "markdown",
      "source": "### len()\nlen () counts the number of items in a list"
    },
    {
      "metadata": {
        "trusted": true
      },
      "cell_type": "code",
      "source": "len(\"Jake\")",
      "execution_count": 19,
      "outputs": [
        {
          "output_type": "execute_result",
          "execution_count": 19,
          "data": {
            "text/plain": "4"
          },
          "metadata": {}
        }
      ]
    },
    {
      "metadata": {},
      "cell_type": "markdown",
      "source": "### min()\nmin() retruns the smallest value in a list"
    },
    {
      "metadata": {
        "trusted": true
      },
      "cell_type": "code",
      "source": "min([10, 9, 8, 7, 6])",
      "execution_count": null,
      "outputs": []
    },
    {
      "metadata": {},
      "cell_type": "markdown",
      "source": "### max()\nmax() returns the largest value in a list"
    },
    {
      "metadata": {
        "trusted": true
      },
      "cell_type": "code",
      "source": "max([10, 9, 8, 7, 6])",
      "execution_count": null,
      "outputs": []
    },
    {
      "metadata": {},
      "cell_type": "markdown",
      "source": "### sum()\nsum() adds all numbers in a list"
    },
    {
      "metadata": {
        "trusted": true
      },
      "cell_type": "code",
      "source": "sum(myList)",
      "execution_count": 3,
      "outputs": [
        {
          "output_type": "execute_result",
          "execution_count": 3,
          "data": {
            "text/plain": "1989"
          },
          "metadata": {}
        }
      ]
    },
    {
      "metadata": {},
      "cell_type": "markdown",
      "source": "## User-defined Functions\nUser-defined functions are functions that developers write to perform tasks within their applications. Often, these are common tasks that might need to be executed often throughout an application. \n\n|Term|Description|\n|-|-|\n|Function|A sub-program within your application that performs a specific command or set of commands|\n|Function Name|The callable name of your function|\n|Call|Functions are *called* by including the function name in a code statement|\n|Paremeter|Parameters are values provided to your function in the calling statement. These values are optional and, if included, are used but not modified by your function|\n|Return Value|Many functions are designed to generate some output that the main application needs to complete its task. In this case, a function *returns* a value that the calling application will want to capture in an assignment statement\n"
    },
    {
      "metadata": {
        "trusted": true
      },
      "cell_type": "code",
      "source": "def echo(varString):\n    print(varString)\n    print(varString)\n\necho(\"Hello\")",
      "execution_count": 3,
      "outputs": [
        {
          "output_type": "stream",
          "text": "Hello\nHello\n",
          "name": "stdout"
        }
      ]
    },
    {
      "metadata": {},
      "cell_type": "markdown",
      "source": "A more complex example of a user-defined function is listed below. This function converts a string to lower-case. The function name is toLower and it accepts one argument (input parameter), varString. Notice that the keyword def precedes the name of the function. This keyword tells Python that the following code defines a function and should only be executed if called at some other point in the application. This function has a return value. The purpose of the function is to convert uppercase letters to lowercase letters so the return value of this function is a string that has been transformed to lowercase. The return keyword defines the return value. When a value is returned or execution reaches the last line of the function, the function ends. Pay attention to the indentation. Code indented one or more level beyond the level of the def keyword make up the body of the function. These lines of code are executed every time the function is called."
    },
    {
      "metadata": {
        "trusted": true
      },
      "cell_type": "code",
      "source": "def toLower(varString):\n    returnString = \"\"\n    for letter in varString:\n        if 65 <= ord(letter) <= 92:\n            nextChar = chr(ord(letter) + 32)\n        else:\n            nextChar = letter\n        returnString = returnString + nextChar\n    return returnString\n\nmyString = \"Hello World!\"\nprint(toLower(myString))",
      "execution_count": 1,
      "outputs": [
        {
          "output_type": "stream",
          "text": "hello world!\n",
          "name": "stdout"
        }
      ]
    }
  ],
  "metadata": {
    "kernelspec": {
      "name": "python3",
      "display_name": "Python 3",
      "language": "python"
    },
    "toc": {
      "nav_menu": {},
      "number_sections": true,
      "sideBar": true,
      "skip_h1_title": false,
      "base_numbering": 1,
      "title_cell": "Table of Contents",
      "title_sidebar": "Contents",
      "toc_cell": false,
      "toc_position": {},
      "toc_section_display": true,
      "toc_window_display": true
    },
    "language_info": {
      "mimetype": "text/x-python",
      "nbconvert_exporter": "python",
      "name": "python",
      "file_extension": ".py",
      "version": "3.5.4",
      "pygments_lexer": "ipython3",
      "codemirror_mode": {
        "version": 3,
        "name": "ipython"
      }
    }
  },
  "nbformat": 4,
  "nbformat_minor": 2
}