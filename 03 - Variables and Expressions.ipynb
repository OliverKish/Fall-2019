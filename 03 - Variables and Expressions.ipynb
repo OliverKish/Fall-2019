{
  "cells": [
    {
      "metadata": {
        "deletable": false,
        "editable": false
      },
      "cell_type": "markdown",
      "source": "# Variables\n**What is a variable, what do they do and why are they needed?** Variables are virtual storage locations for data elements in an application. The content of a variable is stored in the computer’s memory and the variable name serves as a pointer to the memory location so that your application can reliably retrieve the data at any point during execution. Just as you might use your fingers to keep track of a count, you would use a variable to keep track of important information so that your application can perform its task successfully (e.g., if someone asks you to tap your foot 8 times, you can use your fingers to keep track of how many times you have tapped your foot so you know when to stop). You can think of a variable as storage bin in the attic and the variable name as the label that you put on the outside of the bin. While storage bins store our things, variables store our data and they make programming much more manageable.\n\n## Values and Types\n**What are the two properties of a variable?** Variables have a value (e.g., 9, ‘Hello World’, 3.14159) and a type (e.g., character and numeric). Both the value and type of a variable is set when the variable is defined in your program. The type of the variable determines how Python treats the variable and how the variable can be used and can only be changed if the variable is redefined. The value references information that the program need to complete its tasks. Values can and do change frequently.\n\n**How do variables interrelate?** Variables can be combined or compared (more on comparisons here: [Conditional Execution](04%20-%20Conditional%20Execution.ipynb)). You can only combine variables that have the same type. If you try to combine variables with different types, Python will raise a syntax error. In the code below, the + operator is acting as a concatenation command. Much like the plus operator *joins* two numbers together--addition is a form of joining--the concatenator joins strings. So, the code below tries to pass a value that is composed of the *string Hello* joined to the *number 9* joined to the *string World*.\n\nPython does not know how to join strings and numbers (you probably don't either) so it returns an error message stating as much (i.e., can only concatenate str (not \"int\") to str)."
    },
    {
      "metadata": {
        "scrolled": true,
        "trusted": true
      },
      "cell_type": "code",
      "source": "print('Hello' + 9 + 'World')",
      "execution_count": 1,
      "outputs": [
        {
          "output_type": "error",
          "ename": "TypeError",
          "evalue": "Can't convert 'int' object to str implicitly",
          "traceback": [
            "\u001b[0;31m---------------------------------------------------------------------------\u001b[0m",
            "\u001b[0;31mTypeError\u001b[0m                                 Traceback (most recent call last)",
            "\u001b[0;32m<ipython-input-1-7294464ea42d>\u001b[0m in \u001b[0;36m<module>\u001b[0;34m()\u001b[0m\n\u001b[0;32m----> 1\u001b[0;31m \u001b[0mprint\u001b[0m\u001b[0;34m(\u001b[0m\u001b[0;34m'Hello'\u001b[0m \u001b[0;34m+\u001b[0m \u001b[0;36m9\u001b[0m \u001b[0;34m+\u001b[0m \u001b[0;34m'World'\u001b[0m\u001b[0;34m)\u001b[0m\u001b[0;34m\u001b[0m\u001b[0m\n\u001b[0m",
            "\u001b[0;31mTypeError\u001b[0m: Can't convert 'int' object to str implicitly"
          ]
        }
      ]
    },
    {
      "metadata": {
        "deletable": false,
        "editable": false
      },
      "cell_type": "markdown",
      "source": "However, you can combine different-type variables if you first convert the type so that all values are of the same type.\n\nNotice that we are nesting the str() function inside the expression we are passing to the print() function. Python works a lot like addition in that commands nested in parentheses are executed first. So, the first thing Pyhon does in the code below is convert the number 9 to the string 9 (for more information on strings, see here: [Strings](06%20-%20Strings.ipynb)). Then Python concatenates three strings (i.e., *Hello*, *9*, *World*) and passes that value to the print() function which then writes the value to the command-line shell. Consider the various examples below; what are they doing?"
    },
    {
      "metadata": {
        "trusted": true
      },
      "cell_type": "code",
      "source": "print('Hello' + str(9) + 'W')",
      "execution_count": 4,
      "outputs": [
        {
          "output_type": "stream",
          "text": "Hello9W\n",
          "name": "stdout"
        }
      ]
    },
    {
      "metadata": {
        "trusted": true
      },
      "cell_type": "code",
      "source": "print('Hello' + 'World' + \"! How are you?\")",
      "execution_count": 3,
      "outputs": [
        {
          "output_type": "stream",
          "text": "HelloWorld! How are you?\n",
          "name": "stdout"
        }
      ]
    },
    {
      "metadata": {
        "trusted": false
      },
      "cell_type": "code",
      "source": "print(5 + 9 + 5)",
      "execution_count": null,
      "outputs": []
    },
    {
      "metadata": {
        "trusted": false
      },
      "cell_type": "code",
      "source": "print(str(5) + str(9) + str(5))",
      "execution_count": null,
      "outputs": []
    },
    {
      "metadata": {
        "deletable": false,
        "editable": false
      },
      "cell_type": "markdown",
      "source": "In the code above, str() is a **function** that converts the input value (i.e., 9) to a string. Similar functions, int() and float(), convert values to integers and floating point numbers, respectively. To check the type of a variable, you can use the type() function.  See the code below for more examples. For more information on functions, see here: [Functions](07%20-%20Functions.ipynb)."
    },
    {
      "metadata": {
        "trusted": false
      },
      "cell_type": "code",
      "source": "print(type('Hello'))",
      "execution_count": null,
      "outputs": []
    },
    {
      "metadata": {
        "trusted": false
      },
      "cell_type": "code",
      "source": "print(type(9))",
      "execution_count": null,
      "outputs": []
    },
    {
      "metadata": {
        "trusted": false
      },
      "cell_type": "code",
      "source": "print(type('$9.00'))",
      "execution_count": null,
      "outputs": []
    },
    {
      "metadata": {
        "trusted": false
      },
      "cell_type": "code",
      "source": "print(type(9.00))",
      "execution_count": null,
      "outputs": []
    },
    {
      "metadata": {
        "trusted": false
      },
      "cell_type": "code",
      "source": "print(type(str(9)))",
      "execution_count": null,
      "outputs": []
    },
    {
      "metadata": {
        "trusted": false
      },
      "cell_type": "code",
      "source": "print(type(int(str(9))))",
      "execution_count": null,
      "outputs": []
    },
    {
      "metadata": {
        "deletable": false,
        "editable": false
      },
      "cell_type": "markdown",
      "source": "## Names and Keywords\n\n**What is and what is not allowed for variable names; what practices are discouraged/encouraged?** Variable names must be at least one character long and must start with a character (no numbers or special characters). Variable names *can* contain numbers and some special characters as long as they start with a character, but these practices are generally discouraged. Capitalization matters for variables so ‘welcomevariable’, ‘WelcomeVariable’ and ‘welcomeVariable’ are not interchangeable and would represent three different variables. The captialization in the final example (i.e., welcomeVariable) is called a camel-cased, and this technique is widely used as a best practice for variable naming. Variable names may not contain spaces.\n\n## Choosing Variable Names\n**What is a good variable name?** Just like putting descriptive labels on a storage bins or moving boxes, you should put a descriptive label on your variables. You could name them ‘x’, ‘y’, or ‘z’, but these names aren’t very descriptive. It is helpful to know that the box labled ‘pictures’ is a box full of pictures, and it is is similarly helpful to know that the variable graduationYear is likely a 4 digit number. See the statements section below for more examples of assigning variable names.\n\n# Expressions\nAn expression is a combination of operands (i.e., values, variables) and operands (i.e., +, -). Python evaluates expressions to produce some output. Just as mathematical expressions (e.g., 2 is the ouptput value of the expressions 1 + 1), expressions in Python generate some output that can be used in your application.\n\n## Operators and Operands\n**What is an operator and what do Operands do to operators?** Operators are the building blocks of expressions in that they combine variables or values to perform some task. The operator instructs the Python interpreter on how to combine or assess the operands. The most common operators are + (addition), - (subtraction), * (multiplication), / (division), ** (exponential). All of these operands combine operators in some unique way. There are other operands that assess the relationship among operators and these are called conditional operands. The less than (<) and greater than (>) operators are examples of conditional operators. For more information on conditional operators, see [Conditional Execution](04%20-%20Conditional%20Execution.ipynb).\n\n**String Operations** – As discussed earlier, + operand can be used to combine strings. This action is called concatenation. We will cover strings in greater depth later in class [Strings](06%20-%20Strings.ipynb)), but you should know that the + operand performs concatenation when the operands are strings and addition when the operands are numbers (integer or decimal)\n\n## Order of Operations\n**What is the order of operations in Python?** Like any other calculator, Python has an ingrained order of operations. PEDMAS is an acronym which will help you know how Python will interpret an expression (Parentheses, Exponent, Multiplication and Division, Addition and Subtraction. For MD and AS, the expression is evaluated left to right).\n\n# Statements\nAn assignment statement is a block of python code that assigns the output value of an expression to some named variable. A statement can may be invovle simple expressions:"
    },
    {
      "metadata": {
        "trusted": false
      },
      "cell_type": "code",
      "source": "helloWorld = 'Hello9World'",
      "execution_count": null,
      "outputs": []
    },
    {
      "metadata": {
        "deletable": false,
        "editable": false
      },
      "cell_type": "markdown",
      "source": "or may involve several nested expressions:"
    },
    {
      "metadata": {
        "trusted": false
      },
      "cell_type": "code",
      "source": "HelloWorld = 'Hello' + str(9) + 'World'\nhello_world = 'Hello' + str(4 + 5) + 'World'",
      "execution_count": null,
      "outputs": []
    },
    {
      "metadata": {
        "deletable": false,
        "editable": false
      },
      "cell_type": "markdown",
      "source": "In the examples above, the statement is the full line of code and can be interpreted as \"set the variable named *helloWorld* equal to the string 'Hello9World'.\" So, when you look at an assigment statement, the variable that is receiving the value of the expression is always on the left of the equal sign and the expression is always on the right of the equal sign. \n\nAs discussed above, the variable is named *helloWorld* and once the value is assigned the variable will hold on to this value until the program ends or the variable is assigned a new value. Consider the examples below. The first block of code prints the current value of three variables: *helloWorld*, *HelloWorld* and *hello_world*. Re-run this block after each assignment statement to see how the value of the variables change."
    },
    {
      "metadata": {
        "trusted": false
      },
      "cell_type": "code",
      "source": "print(helloWorld)\nprint(HelloWorld)\nprint(hello_world)",
      "execution_count": null,
      "outputs": []
    },
    {
      "metadata": {
        "trusted": false
      },
      "cell_type": "code",
      "source": "HelloWorld = 'Hello World!'",
      "execution_count": null,
      "outputs": []
    },
    {
      "metadata": {
        "trusted": false
      },
      "cell_type": "code",
      "source": "helloWorld = '2019'",
      "execution_count": null,
      "outputs": []
    },
    {
      "metadata": {
        "trusted": false
      },
      "cell_type": "code",
      "source": "hello_world = HelloWorld + helloWorld",
      "execution_count": null,
      "outputs": []
    },
    {
      "metadata": {
        "trusted": false
      },
      "cell_type": "code",
      "source": "helloWorld = helloWorld + helloWorld",
      "execution_count": null,
      "outputs": []
    },
    {
      "metadata": {
        "deletable": false,
        "editable": false
      },
      "cell_type": "markdown",
      "source": "# User Input\nMost programs require some sort of input from the user. The most basic form of user input is to prompt the user to enter a value. This is done using the input() function. Just as the print() function prints values to the system, the input() function accepts values from the system. For example, when you execute the following block of code, the system will wait on the user to enter a value and press the enter key (which signals the end of data entry)."
    },
    {
      "metadata": {
        "trusted": false
      },
      "cell_type": "code",
      "source": "input('Enter your age')",
      "execution_count": null,
      "outputs": []
    },
    {
      "metadata": {
        "deletable": false,
        "editable": false
      },
      "cell_type": "markdown",
      "source": "To capture the value of the input, we would need to combine all of the concepts we've discussed thus far. We need to write an assignment statement that set some variable equal to the output of an expression which includes the input() function."
    },
    {
      "metadata": {
        "trusted": false
      },
      "cell_type": "code",
      "source": "userAge = input('Enter your age:')\nprint('You entered:' + userAge)",
      "execution_count": null,
      "outputs": []
    },
    {
      "metadata": {
        "deletable": false,
        "editable": false
      },
      "cell_type": "markdown",
      "source": "**Note:** Values captured from the input() function will always be of the type *string*. This means that values that look like numbers will actually be strings. If you want the user to enter a number, you will need to accept it as a string and convert it to a number."
    },
    {
      "metadata": {
        "trusted": false
      },
      "cell_type": "code",
      "source": "print(type(userAge))",
      "execution_count": null,
      "outputs": []
    },
    {
      "metadata": {
        "trusted": false
      },
      "cell_type": "code",
      "source": "userAge = int(userAge)\nprint(type(userAge))",
      "execution_count": null,
      "outputs": []
    },
    {
      "metadata": {
        "deletable": false,
        "editable": false
      },
      "cell_type": "markdown",
      "source": "# Comments\n**What are comments and why do we need them?** Comments are blocks of code that the interpreter ignores and are often used to explain what’s going on in the code. So, comments are a way to add notes to your code so that, as your application gets more complex, you will be able to explain what the program is doing at particular points in the code. Comments are also useful for organizing your application. In most assignments you will be asked to perform specific tasks. Oftentimes, these tasks can be inserted first as comments that will serve as placeholders for future code.\n\nFor example, imagine I asked you to write an application that asks the user for their current age and then report how old the user will be in 10 years. You might start your application by writing the following lines of code:"
    },
    {
      "metadata": {
        "trusted": false
      },
      "cell_type": "code",
      "source": "#prompt user for their age and save as variable\n\n#report how old the user will be in 10 years.",
      "execution_count": null,
      "outputs": []
    },
    {
      "metadata": {
        "deletable": false,
        "editable": false
      },
      "cell_type": "markdown",
      "source": "When you run this code, nothing happens, but you now have some structure to your code that provides guidance for successfully performing the assigned task. So, now we just have to fill in some code under the comments."
    },
    {
      "metadata": {
        "trusted": false
      },
      "cell_type": "code",
      "source": "#prompt user for their age and save as variable\nuserAge = input(\"How old are you?\")\n\n#report how old the user will be in 10 years.",
      "execution_count": null,
      "outputs": []
    },
    {
      "metadata": {
        "deletable": false,
        "editable": false
      },
      "cell_type": "markdown",
      "source": "We are getting closer. Now we just have to report how old the user will be in 10 years."
    },
    {
      "metadata": {
        "trusted": false
      },
      "cell_type": "code",
      "source": "#prompt user for their age and save as variable\nuserAge = input(\"How old are you?\")\n\n#report how old the user will be in 10 years.\nprint(\"You will be \" + (userAge + 10) + \" in 10 years!\")",
      "execution_count": null,
      "outputs": []
    },
    {
      "metadata": {
        "deletable": false,
        "editable": false
      },
      "cell_type": "markdown",
      "source": "The above code produces an error. Do you know why? Do you know how to fix it? If not, go here for more information on debugging your code: [Conditional Execution](04%20-%20Conditional%20Execution.ipynb)."
    }
  ],
  "metadata": {
    "kernelspec": {
      "name": "python3",
      "display_name": "Python 3",
      "language": "python"
    },
    "toc": {
      "nav_menu": {},
      "number_sections": true,
      "sideBar": true,
      "skip_h1_title": false,
      "base_numbering": 1,
      "title_cell": "Table of Contents",
      "title_sidebar": "Contents",
      "toc_cell": false,
      "toc_position": {
        "height": "477px",
        "width": "254px",
        "left": "96px",
        "top": "150.14px"
      },
      "toc_section_display": true,
      "toc_window_display": true
    },
    "celltoolbar": "Edit Metadata"
  },
  "nbformat": 4,
  "nbformat_minor": 2
}