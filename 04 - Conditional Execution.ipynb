{
  "cells": [
    {
      "metadata": {
        "deletable": false,
        "editable": false
      },
      "cell_type": "markdown",
      "source": "# Conditional Execution\n\n## Comparison Operators\nWhereas arithmetic operators are used to process variable values, comparison operators are used to compare values. Expressions containing these operators produce Boolean values. For example, consider the code below:"
    },
    {
      "metadata": {
        "trusted": true
      },
      "cell_type": "code",
      "source": "print(1 + 2)\nprint(type(1 + 2))",
      "execution_count": null,
      "outputs": []
    },
    {
      "metadata": {
        "trusted": true
      },
      "cell_type": "code",
      "source": "print(1 > 2)\nprint(type(1 > 2))",
      "execution_count": null,
      "outputs": []
    },
    {
      "metadata": {
        "deletable": false,
        "editable": false
      },
      "cell_type": "markdown",
      "source": "So, while the statement \n```python\nmyVar = 1 + 2\n```\nresults in a value that has the type of integer, \n```python\nmyVar = 1 > 2\n```\nresults in a value that has the type of Boolean (Boolean simply means true or false, and in this case, the value is false because one it is not true that one is greater than true). You can think of comparison operators as asking the question: Is it true that these values are related in this way? If the answer it no, the value of the statement is FALSE. If the answer is yes, the value of the statement is TRUE (true and false are reserved words in python). Common conditional operators are listed below.\n\n|Operator|Operation|\n|--------|---------|\n|A == B|Are A and B equal?|\n|A != B|Are A and B not equal?|\n|A < B|Is A less than B?|\n|A <= B|Is A less than or equal to B?|\n|A > B|Is A greater than B?|\n|A >= B|Is A greater than or equal to B?|\n\nBelow are some examples of conditional "
    },
    {
      "metadata": {
        "trusted": true
      },
      "cell_type": "code",
      "source": "print(5 < 10)",
      "execution_count": null,
      "outputs": []
    },
    {
      "metadata": {
        "trusted": true
      },
      "cell_type": "code",
      "source": "print(\"Jake\" < \"London\")",
      "execution_count": null,
      "outputs": []
    },
    {
      "metadata": {
        "trusted": true
      },
      "cell_type": "code",
      "source": "print(\"LONDON\" == \"london\")",
      "execution_count": null,
      "outputs": []
    },
    {
      "metadata": {
        "trusted": true
      },
      "cell_type": "code",
      "source": "print(9.00 <= 9)",
      "execution_count": null,
      "outputs": []
    },
    {
      "metadata": {
        "trusted": true
      },
      "cell_type": "code",
      "source": "print(\"9\" < 9)",
      "execution_count": null,
      "outputs": []
    },
    {
      "metadata": {
        "deletable": false,
        "editable": false
      },
      "cell_type": "markdown",
      "source": "## Conditional Execution\nConditional execution is an essential component of any application. Conditional execution allows your application to assess the current reality of the application and to execute code accordingly. To do this, conditional statements are written using the ‘if’ keyword in conjunction with some comparison statement. The following statement compares 2 variables (myAge, yourAge) and asks the question “If it is true that myAge is greater than yourAge, execute the following commands. "
    },
    {
      "metadata": {
        "trusted": true
      },
      "cell_type": "code",
      "source": "myAge = 40\nyourAge = 20\nif myAge > yourAge:\n    print('I am older than you')\n    print('You are younger than me')",
      "execution_count": null,
      "outputs": []
    },
    {
      "metadata": {
        "deletable": false,
        "editable": false
      },
      "cell_type": "markdown",
      "source": "**Note:** Python is very strict about indentation. Though indentation refers to any leading white-space, it is a best practice to use tabs to indent your code. Indents are used to create levels of execution where consecutive lines at the same level of execution are executed together. Execution is broken when the interpreter encounters a line at a different level of indentation. So, when you create a conditional block of code, all of the code you want to execute if the condition is true must be indented to the same level. Because the two print statements are indented to the same level, Python interprets that to mean that you want both lines executed if the conditional statement is true.\n\nConsider the following examples. In the first example, the code **accidentally** produces the expected result. Only the first two print statements were executed because the conditaion expression is true. The third print statement executes because it is at the root level of execution. This is illustrated if we make the conditional expression false (second example). The final example produces an error because the third print statement is indented too far. Indents are only used for conditional statements, [loops](05%20-%20Iteration.ipynb), [functions](07%20-%20Functions.ipynb) or multi-line statements. For more information on indentation, see here: [Python Indentation Rules](https://docs.python.org/3/reference/lexical_analysis.html#indentation)"
    },
    {
      "metadata": {
        "trusted": true
      },
      "cell_type": "code",
      "source": "if myAge > yourAge:\n    print('Our ages are different')\n    print('I am older than you')\nprint('You are younger than me')",
      "execution_count": null,
      "outputs": []
    },
    {
      "metadata": {
        "trusted": true
      },
      "cell_type": "code",
      "source": "if myAge < yourAge:\n    print('Our ages are different')\n    print('I am younger than you')\nprint('You are older than me')",
      "execution_count": null,
      "outputs": []
    },
    {
      "metadata": {
        "trusted": true
      },
      "cell_type": "code",
      "source": "if myAge < yourAge:\n    print('Our ages are different')\n    print('I am younger than you')\n        print('You are older than me')",
      "execution_count": null,
      "outputs": []
    },
    {
      "metadata": {
        "deletable": false,
        "editable": false
      },
      "cell_type": "markdown",
      "source": "### Alternative Execution\nAlternative execution allows you to introduce further complexity into your conditions. So, you can define one block of code to execute if a condition is true and an alternative block of code to execute if the condition is false. Notice, there is no condition for the alternative branch. "
    },
    {
      "metadata": {
        "trusted": true
      },
      "cell_type": "code",
      "source": "if myAge > yourAge:\n    print('I am older than you')\n    print('You are younger than me')\nelse:\n    print('You are older than me')\n    print('I am younger than you')\n",
      "execution_count": null,
      "outputs": []
    },
    {
      "metadata": {
        "deletable": false,
        "editable": false
      },
      "cell_type": "markdown",
      "source": "### Chained Execution\nChained execution introduces further complexity with the elif condition. This can be thought of as an ‘else if’ condition. In the following block of code, Python evaluates the conditions in order and will only execute one block of code. First python will check to see if myAge is greater than yourAge. If it is not, it will check to see if myAge is less than yourAge. If it is not, it will execute the final else block of code. \n\n**Note:** Chained executions can get hairy quickly and you have to be careful to make sure you are not missing potential conditions. Though chained execution has its uses, I find these statements can get confusing and prefer to think in binary terms (illustrated below in the nested execution).  \n"
    },
    {
      "metadata": {
        "trusted": true
      },
      "cell_type": "code",
      "source": "if myAge > yourAge:\n    print('I am older than you')\n    print('You are younger than me')\nelif myAge < yourAge:\n    print('You are older than me')\n    print('I am younger than you')\nelse:\n    print('We are the same age')",
      "execution_count": null,
      "outputs": []
    },
    {
      "metadata": {
        "deletable": false,
        "editable": false
      },
      "cell_type": "markdown",
      "source": "### Nested Execution\nNested execution nests another conditional block inside the code of a parent conditional. Nested statements are more difficult to read, but the logic is easier to follow (at least for me). In the following block of code, the program checks to see if myAge is greater than yourAge. If it is, it executes the first block of code. If it is not, it enters the else block and then evaluates whether myAge is less than yourAge. I prefer this structure, because it keeps the comparisons simple and makes it easier to modify how your program responds to different states of the world (my opinion). \n\nNotice that a nested conditional requires another level of indentation. The second level is only executed if the initial if condition is false (or, stated differently, the else condition is true). "
    },
    {
      "metadata": {
        "trusted": true
      },
      "cell_type": "code",
      "source": "if myAge > yourAge:\n    print('I am older than you')\n    print('You are younger than me')\nelse:\n    if myAge < yourAge:\n        print('You are older than me')\n        print('I am younger than you')\n    else:\n        print('We are the same age')",
      "execution_count": null,
      "outputs": []
    },
    {
      "metadata": {
        "deletable": false,
        "editable": false
      },
      "cell_type": "markdown",
      "source": "## Compound Conditions and Logical Operators\nLogical operators can be used to create compound conditions. The logical operators in Python are ‘and’ and ‘or’. You can also use ‘not’ to invert the value of a condition. In the second block of code, or conditions will execute if either condition is true (and if both are true). Therefore, the else block will only execute if both conditions are false (parentheses are not required, but they help me keep track of my comparisons. At times you will have multiple and/or conditions in the same if statement and parentheses ensure conditions are evaluated in the correct order).\n\n### AND statement\nThe AND operator links two conditional expressions and evalutes to true or false. Both conditions must be true for the code to execute. If either condition is false, python will execute the alternative block of code. See the examples below. Notice, that you can chain together multiple comparisons. If you have more than two comparisons, the order of operations come in to play such that comparisons in parentheses are executed first and other comparisons are evaluated consecutively."
    },
    {
      "metadata": {
        "trusted": true
      },
      "cell_type": "code",
      "source": "print(5 > 1 and 5 < 10)",
      "execution_count": null,
      "outputs": []
    },
    {
      "metadata": {
        "trusted": true
      },
      "cell_type": "code",
      "source": "print(5 > 1 and 5 == 5)",
      "execution_count": null,
      "outputs": []
    },
    {
      "metadata": {
        "trusted": true
      },
      "cell_type": "code",
      "source": "print(5 > 1 and 5 == 5 and 5 < 10)",
      "execution_count": null,
      "outputs": []
    },
    {
      "metadata": {
        "trusted": true
      },
      "cell_type": "code",
      "source": "print(5 > 1 and 5 != 5 and 5 < 10)",
      "execution_count": null,
      "outputs": []
    },
    {
      "metadata": {
        "trusted": true
      },
      "cell_type": "code",
      "source": "myWisdom = 19383\nyourWisdom = 19382\nif (myAge > yourAge) and (myWisdom > yourWisdom):\n    print('I am older and wiser than you')\nelse:\n    print('I might be older than you')\n    print('I might be wiser than you')\n    print('I am not older and wiser than you')\n",
      "execution_count": null,
      "outputs": []
    },
    {
      "metadata": {
        "deletable": false,
        "editable": false
      },
      "cell_type": "markdown",
      "source": "### OR statement\nThe OR operator evaluates to true if either expression is true and only evaluates to false if both conditions are false. See the examples below. As with the AND operators, the OR can chain together multiple comparisons. Also, the OR and AND operators can be combined. If you combine them, I would recommend using parentheses to help you organize your thinking."
    },
    {
      "metadata": {
        "trusted": true
      },
      "cell_type": "code",
      "source": "print(5 > 1 or 5 < 10)",
      "execution_count": null,
      "outputs": []
    },
    {
      "metadata": {
        "trusted": true
      },
      "cell_type": "code",
      "source": "print(5 > 1 or 5 > 10)",
      "execution_count": null,
      "outputs": []
    },
    {
      "metadata": {
        "trusted": true
      },
      "cell_type": "code",
      "source": "print(5 < 1 or 5 > 10)",
      "execution_count": null,
      "outputs": []
    },
    {
      "metadata": {
        "trusted": true
      },
      "cell_type": "code",
      "source": "print(5 > 1 or 5 != 5 or 5 < 10)",
      "execution_count": null,
      "outputs": []
    },
    {
      "metadata": {
        "trusted": true
      },
      "cell_type": "code",
      "source": "print((5 < 1 and 5 > 10) or 5 == 5)",
      "execution_count": null,
      "outputs": []
    },
    {
      "metadata": {
        "trusted": true
      },
      "cell_type": "code",
      "source": "if (myAge > yourAge) or (myWisdom > yourWisdom):\n    print('I might be older than you')\n    print('I might be wiser than you')\n    print('I might be older and wiser than you')\nelse:\n    print('I am neither older nor wiser than you')",
      "execution_count": null,
      "outputs": []
    },
    {
      "metadata": {
        "deletable": false,
        "editable": false
      },
      "cell_type": "markdown",
      "source": "## Validation\nTry blocks can be used to catch input errors. Asking the user for input is complicated by two issues: 1) we have little control over what they type 2) regardless of what they type it will be treated as a string. This means that if we are hoping for a number, even if they give us what we want, we have to convert it from a string to a number. If they don’t give us what we want, the conversion step will raise an error as our application struggles to understand their response. Try blocks are used to suppress and handle these types of errors. Just as with if blocks, indented code blocks are executed only if the condition is met. For the *try:* block, the condition is always true and this block of code is always ‘tried’. The except block is only executed if one or more lines of code in the try block raise an error. "
    },
    {
      "metadata": {
        "trusted": true
      },
      "cell_type": "code",
      "source": "try:\n    myAge = int(input('Enter your age: '))\n    print('You will be ' + str(myAge + 10) + ' in 10 years.')\nexcept:\n    print('I\\'m sorry, I did not understand your response')\n\nprint('Thanks for trying!')",
      "execution_count": null,
      "outputs": []
    },
    {
      "metadata": {
        "deletable": false,
        "editable": false
      },
      "cell_type": "markdown",
      "source": "## Debugging\nDebugging is an essential task in programming. No matter how long you’ve been programming, you will write applications with bugs. Lots and lots and lots of bugs. Some bugs will be noticeable (syntax errors), and others will be less so (logic errors, design errors), but all of them need to be squashed. For syntax errors, Python tries to give hints as to where the problem lies. Run the code block below."
    },
    {
      "metadata": {
        "trusted": true
      },
      "cell_type": "code",
      "source": "myAge = input('Enter your age: ')\nprint('You will be ' + (myAge + 10) + ' in 10 years.')",
      "execution_count": null,
      "outputs": []
    },
    {
      "metadata": {
        "deletable": false,
        "editable": false
      },
      "cell_type": "markdown",
      "source": "Python provides a traceback log that 'traces' the error back to the source (most commonly, the file you’re working on). The log provides the file and line which raised the error, prints the line of code or offending segment, and then indicates the type of error that occurred. If you’re stuck, you can often paste the final line of the traceback log into google and it will direct you to an explanation of the problem (typically on stackoverflow). \n\n<img src=\"http://thislondonhouse.hopto.org/Jupyter/Images/04-Debugging-01.png\" alt=\"Google is your friend\" width=\"75%\"/>\n"
    }
  ],
  "metadata": {
    "kernelspec": {
      "name": "python3",
      "display_name": "Python 3",
      "language": "python"
    },
    "language_info": {
      "mimetype": "text/x-python",
      "nbconvert_exporter": "python",
      "name": "python",
      "pygments_lexer": "ipython3",
      "version": "3.5.4",
      "file_extension": ".py",
      "codemirror_mode": {
        "version": 3,
        "name": "ipython"
      }
    },
    "toc": {
      "nav_menu": {},
      "number_sections": true,
      "sideBar": true,
      "skip_h1_title": false,
      "base_numbering": 1,
      "title_cell": "Table of Contents",
      "title_sidebar": "Contents",
      "toc_cell": false,
      "toc_position": {},
      "toc_section_display": true,
      "toc_window_display": true
    },
    "celltoolbar": "Edit Metadata"
  },
  "nbformat": 4,
  "nbformat_minor": 2
}