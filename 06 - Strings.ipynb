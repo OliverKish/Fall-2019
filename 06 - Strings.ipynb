{
  "cells": [
    {
      "metadata": {},
      "cell_type": "markdown",
      "source": "# Strings\nThough data elements are often thought of as numbers or strings, the appropriate distinction is numbers in characters. So, strings are not a data element, but are instead a data structure. Specifically, a string is a data structure that contains a list of characters and has properties and methods that are unique to the string object. In this chapter, we will look at the structure of a string, the content of a string and the methods and properties that are accessible through the string object. \n\n## A String is a List\nIt is best to think of a string as a list or characters rather than as a string. As a list of characters, we can use what we know about a list of numbers to help us think more clearly about strings.  "
    },
    {
      "metadata": {
        "trusted": true
      },
      "cell_type": "code",
      "source": "myString = \"Bananas\"",
      "execution_count": 4,
      "outputs": []
    },
    {
      "metadata": {},
      "cell_type": "markdown",
      "source": "When a string is created, we view it as a single entity, but python treats it as a list of values. So, the above string assignment is treated in the following way:\n\n|0|1|3|4|5|6|7|\n|-|-|-|-|-|-|-|\n|B|a|n|a|n|a|s|\n\nBecause strings are stored in this way, we have access to any single character or subset of the string through indices. For example, the following statements can be used to retrieve a letter or series of letters from our string. The first statement prints the letter in the 4th pointer (which is in the 5th letter in the sequence). "
    },
    {
      "metadata": {
        "trusted": true
      },
      "cell_type": "code",
      "source": "print(myString[4])",
      "execution_count": 5,
      "outputs": [
        {
          "output_type": "stream",
          "text": "n\n",
          "name": "stdout"
        }
      ]
    },
    {
      "metadata": {},
      "cell_type": "markdown",
      "source": "The second statement prints a subset of the string which includes all letters from the 1st pointer to the 4th pointer."
    },
    {
      "metadata": {
        "trusted": true
      },
      "cell_type": "code",
      "source": "print(myString[1:4]) ",
      "execution_count": 6,
      "outputs": [
        {
          "output_type": "stream",
          "text": "ana\n",
          "name": "stdout"
        }
      ]
    },
    {
      "metadata": {},
      "cell_type": "markdown",
      "source": "The third statement makes use of the len() function (which counts the number of items in a list) to subset all characters from the 0th pointer to the last pointer (note: because 0 is the first position and len() provides a count, (len() – 1) calculates the position of the last pointer)."
    },
    {
      "metadata": {
        "trusted": true
      },
      "cell_type": "code",
      "source": "print(myString[0:(len(myString) - 1)]) ",
      "execution_count": 13,
      "outputs": [
        {
          "output_type": "stream",
          "text": "Banana\n",
          "name": "stdout"
        }
      ]
    },
    {
      "metadata": {},
      "cell_type": "markdown",
      "source": "The next two statements subset the string by extracting all letters up to the 3rd pointer and all letters from the 3rd pointer to the end of the string. "
    },
    {
      "metadata": {
        "trusted": true
      },
      "cell_type": "code",
      "source": "print(myString[:3]) ",
      "execution_count": 14,
      "outputs": [
        {
          "output_type": "stream",
          "text": "Ban\n",
          "name": "stdout"
        }
      ]
    },
    {
      "metadata": {
        "trusted": true
      },
      "cell_type": "code",
      "source": "print(myString[3:]) ",
      "execution_count": 15,
      "outputs": [
        {
          "output_type": "stream",
          "text": "anas\n",
          "name": "stdout"
        }
      ]
    },
    {
      "metadata": {},
      "cell_type": "markdown",
      "source": "Another consequence of the *list of characters* paradigm is that each character is an element that can be traversed or searched. So, loops can be used to iterate through all elements in the list of characters. Likewise, the in operator can be used to search for elements in the list. "
    },
    {
      "metadata": {
        "trusted": true
      },
      "cell_type": "code",
      "source": "i = 0 \nwhile i < len(myString): \n    letter = myString[i] \n    print(\"Letter \" + str(i) + \": \" + letter) \n    i = i + 1 \n",
      "execution_count": 19,
      "outputs": [
        {
          "output_type": "stream",
          "text": "Letter 0: B\nLetter 1: a\nLetter 2: n\nLetter 3: a\nLetter 4: n\nLetter 5: a\nLetter 6: s\n",
          "name": "stdout"
        }
      ]
    },
    {
      "metadata": {},
      "cell_type": "markdown",
      "source": "Remeber, for loops can be used when you know exactly how many times you want to loop your code. In the case of strings, Python has a built-in knowledge of strings which allows you to loop through each item in the list of characters. **Note:** When using the for loop to iterate through a string in this way, the letter variable is updated each time through the loop to the *next* item (in this case, character) in the list. This is why we are able to access the individual letter without knowing their position in the string."
    },
    {
      "metadata": {
        "trusted": true
      },
      "cell_type": "code",
      "source": "for letter in myString: \n    print(\"Letter: \" + letter)",
      "execution_count": 20,
      "outputs": [
        {
          "output_type": "stream",
          "text": "Letter: B\nLetter: a\nLetter: n\nLetter: a\nLetter: n\nLetter: a\nLetter: s\n",
          "name": "stdout"
        }
      ]
    },
    {
      "metadata": {
        "trusted": true
      },
      "cell_type": "code",
      "source": "aCount = 0 \nfor letter in myString:\n    if letter == 'a': \n        aCount += 1 \n\nprint(\"There are \" + str(aCount) + \" a's in the word \" + myString) \n",
      "execution_count": 21,
      "outputs": [
        {
          "output_type": "stream",
          "text": "There are 3 a's in the word Bananas\n",
          "name": "stdout"
        }
      ]
    },
    {
      "metadata": {},
      "cell_type": "markdown",
      "source": "A final consequence of strings being a list of characters is that when comparing strings, length is irrelevant and capitalization matters. Length is irrelevant because it is irrelevant when we compare words (which is why ‘zero’ comes after ‘one’ and ‘eighty’ comes before ‘seventy’). Also, capitalization matters because, from the computer’s perspective, an ‘a’ and an ‘A’ are different letters. "
    },
    {
      "metadata": {
        "trusted": true
      },
      "cell_type": "code",
      "source": "print('zero' < 'one')",
      "execution_count": 22,
      "outputs": [
        {
          "output_type": "stream",
          "text": "False\n",
          "name": "stdout"
        }
      ]
    },
    {
      "metadata": {
        "trusted": true
      },
      "cell_type": "code",
      "source": "print('zero' == 'ZERO')",
      "execution_count": 23,
      "outputs": [
        {
          "output_type": "stream",
          "text": "False\n",
          "name": "stdout"
        }
      ]
    },
    {
      "metadata": {
        "trusted": true
      },
      "cell_type": "code",
      "source": "print('one' == '1')",
      "execution_count": 24,
      "outputs": [
        {
          "output_type": "stream",
          "text": "False\n",
          "name": "stdout"
        }
      ]
    },
    {
      "metadata": {
        "trusted": true
      },
      "cell_type": "code",
      "source": "print('one' == 'one')",
      "execution_count": 25,
      "outputs": [
        {
          "output_type": "stream",
          "text": "True\n",
          "name": "stdout"
        }
      ]
    },
    {
      "metadata": {},
      "cell_type": "markdown",
      "source": "## A String is an Object\nWe aren’t covering object-oriented concepts in this class, but you do need to understand that objects are data structures that have properties and methods in addition to whatever values we might assign. So, our string variable above has the value of ‘bananas’, but by nature of being a string object, our variable has access to properties and methods that are built in to string objects. A properties is some static value that is unique to the object it is meant to describe. An example of a string property is the isupper property. This property is set when the string object is created and will return the value True if the string is in lowercase.  "
    },
    {
      "metadata": {
        "trusted": true
      },
      "cell_type": "code",
      "source": "print(myString.isupper()) ",
      "execution_count": null,
      "outputs": []
    },
    {
      "metadata": {
        "trusted": true
      },
      "cell_type": "code",
      "source": "print(myString.islower()) ",
      "execution_count": null,
      "outputs": []
    },
    {
      "metadata": {},
      "cell_type": "markdown",
      "source": "A method is a function that is built in to the string object that performs some operation on the string value. An example of a string method is the upper() method which returns a uppercased version of the string. The following lines provide a brief selection of string methods available. Refer to page 72 of your text book for a comprehensive list. Also refer to https://docs.python.org/3/library/stdtypes.html#string-methods "
    },
    {
      "metadata": {
        "trusted": true
      },
      "cell_type": "code",
      "source": "print(myString.capitalize()) ",
      "execution_count": null,
      "outputs": []
    },
    {
      "metadata": {
        "trusted": true
      },
      "cell_type": "code",
      "source": "print(myString.casefold()) ",
      "execution_count": null,
      "outputs": []
    },
    {
      "metadata": {
        "trusted": true
      },
      "cell_type": "code",
      "source": "print(myString.center(20, \"H\")) ",
      "execution_count": null,
      "outputs": []
    },
    {
      "metadata": {
        "trusted": true
      },
      "cell_type": "code",
      "source": "print(myString.count('a')) ",
      "execution_count": null,
      "outputs": []
    },
    {
      "metadata": {
        "trusted": true
      },
      "cell_type": "code",
      "source": "print(myString.endswith('ing')) ",
      "execution_count": null,
      "outputs": []
    },
    {
      "metadata": {
        "trusted": true
      },
      "cell_type": "code",
      "source": "print(myString.find('an')) ",
      "execution_count": null,
      "outputs": []
    },
    {
      "metadata": {
        "trusted": true
      },
      "cell_type": "code",
      "source": "print(myString.upper()) ",
      "execution_count": null,
      "outputs": []
    },
    {
      "metadata": {
        "trusted": true
      },
      "cell_type": "code",
      "source": "print(myString.lower()) ",
      "execution_count": null,
      "outputs": []
    },
    {
      "metadata": {},
      "cell_type": "markdown",
      "source": "There are different types of objects in Python, and Strings are classified as static objects. A static object is an object that is immutable (or unchangeable). This means that once a string object is instantiated, it cannot be changed and that any changes you wish to save, must be saved as a new string object. This concept is counter-intuitive, but it will make sense when you look at the ways strings are handled in python. So, the first example does not work because you cannot change the value of any element in the list of charactes. "
    },
    {
      "metadata": {
        "trusted": true
      },
      "cell_type": "code",
      "source": "i = 0 \nwhile i < len(myString): \n    myString[i] = myString[i].upper() \n    print(myString)\n    i += 1 ",
      "execution_count": 43,
      "outputs": [
        {
          "output_type": "error",
          "ename": "TypeError",
          "evalue": "'str' object does not support item assignment",
          "traceback": [
            "\u001b[0;31m---------------------------------------------------------------------------\u001b[0m",
            "\u001b[0;31mTypeError\u001b[0m                                 Traceback (most recent call last)",
            "\u001b[0;32m<ipython-input-43-2110127505e1>\u001b[0m in \u001b[0;36m<module>\u001b[0;34m()\u001b[0m\n\u001b[1;32m      1\u001b[0m \u001b[0mi\u001b[0m \u001b[0;34m=\u001b[0m \u001b[0;36m0\u001b[0m\u001b[0;34m\u001b[0m\u001b[0m\n\u001b[1;32m      2\u001b[0m \u001b[0;32mwhile\u001b[0m \u001b[0mi\u001b[0m \u001b[0;34m<\u001b[0m \u001b[0mlen\u001b[0m\u001b[0;34m(\u001b[0m\u001b[0mmyString\u001b[0m\u001b[0;34m)\u001b[0m\u001b[0;34m:\u001b[0m\u001b[0;34m\u001b[0m\u001b[0m\n\u001b[0;32m----> 3\u001b[0;31m     \u001b[0mmyString\u001b[0m\u001b[0;34m[\u001b[0m\u001b[0mi\u001b[0m\u001b[0;34m]\u001b[0m \u001b[0;34m=\u001b[0m \u001b[0mmyString\u001b[0m\u001b[0;34m[\u001b[0m\u001b[0mi\u001b[0m\u001b[0;34m]\u001b[0m\u001b[0;34m.\u001b[0m\u001b[0mupper\u001b[0m\u001b[0;34m(\u001b[0m\u001b[0;34m)\u001b[0m\u001b[0;34m\u001b[0m\u001b[0m\n\u001b[0m\u001b[1;32m      4\u001b[0m     \u001b[0mprint\u001b[0m\u001b[0;34m(\u001b[0m\u001b[0mmyString\u001b[0m\u001b[0;34m)\u001b[0m\u001b[0;34m\u001b[0m\u001b[0m\n\u001b[1;32m      5\u001b[0m     \u001b[0mi\u001b[0m \u001b[0;34m+=\u001b[0m \u001b[0;36m1\u001b[0m\u001b[0;34m\u001b[0m\u001b[0m\n",
            "\u001b[0;31mTypeError\u001b[0m: 'str' object does not support item assignment"
          ]
        }
      ]
    },
    {
      "metadata": {},
      "cell_type": "markdown",
      "source": "However, the second example does work because the code creates a new instance of the myUpperString each time through the loop. "
    },
    {
      "metadata": {
        "trusted": true
      },
      "cell_type": "code",
      "source": "i = 0 \nmyUpperString = \"\"\nwhile i < len(myString): \n    myUpperString = myUpperString + myString[i].upper() \n    print(myUpperString)\n    i += 1 \n",
      "execution_count": 28,
      "outputs": [
        {
          "output_type": "stream",
          "text": "B\nBA\nBAN\nBANA\nBANAN\nBANANA\nBANANAS\n",
          "name": "stdout"
        }
      ]
    },
    {
      "metadata": {},
      "cell_type": "markdown",
      "source": "## String Presentation\nFormatting strings can be one of the most time-consuming aspects of programming. To create a dynamic and informative application interface, you will often find yourself needing to parse strings and to pipe variable values into an output string. Python offers many solutions to this problem (oftentimes referred to as *string interpolation*). The following lines of code illustrate these options.  "
    },
    {
      "metadata": {
        "trusted": true
      },
      "cell_type": "code",
      "source": "firstName = \"Jake\"\nlastName = \"London\"\nmyAge = 40",
      "execution_count": 35,
      "outputs": []
    },
    {
      "metadata": {
        "trusted": true
      },
      "cell_type": "code",
      "source": "print(\"My name is\", firstName, lastName, \", and I am\", myAge, \"years old.\") \n",
      "execution_count": 36,
      "outputs": [
        {
          "output_type": "stream",
          "text": "My name is Jake London , and I am 40 years old.\n",
          "name": "stdout"
        }
      ]
    },
    {
      "metadata": {
        "trusted": true
      },
      "cell_type": "code",
      "source": "print(\"My name is \" + firstName + \" \" + lastName + \", and I am \" + str(myAge) + \" years old.\") \n",
      "execution_count": 37,
      "outputs": [
        {
          "output_type": "stream",
          "text": "My name is Jake London, and I am 40 years old.\n",
          "name": "stdout"
        }
      ]
    },
    {
      "metadata": {
        "trusted": true
      },
      "cell_type": "code",
      "source": "print(\"My name is %s %s, and I am %d years old.\" % (firstName, lastName, myAge)) \n",
      "execution_count": 38,
      "outputs": [
        {
          "output_type": "stream",
          "text": "My name is Jake London, and I am 40 years old.\n",
          "name": "stdout"
        }
      ]
    },
    {
      "metadata": {
        "trusted": true
      },
      "cell_type": "code",
      "source": "print(\"My name is {} {}, and I am {} years old.\".format(firstName, lastName, myAge)) \n",
      "execution_count": 39,
      "outputs": [
        {
          "output_type": "stream",
          "text": "My name is Jake London, and I am 40 years old.\n",
          "name": "stdout"
        }
      ]
    },
    {
      "metadata": {
        "trusted": true
      },
      "cell_type": "code",
      "source": "print(\"My name is {0} {1}, and I am {2} years old.\".format(firstName, lastName, myAge)) \n",
      "execution_count": 40,
      "outputs": [
        {
          "output_type": "stream",
          "text": "My name is Jake London, and I am 40 years old.\n",
          "name": "stdout"
        }
      ]
    },
    {
      "metadata": {},
      "cell_type": "markdown",
      "source": "**Note:** The following examples will not work because Azure notebooks does not support Python 3.6+. This is unfortunate, because it is my favorite (because it is the most readable) method for presenting strings. This method will work on your version of Python."
    },
    {
      "metadata": {
        "trusted": true
      },
      "cell_type": "code",
      "source": "print(f\"My name is {firstName} {lastName}, and I am {myAge} years old.\") \n",
      "execution_count": 41,
      "outputs": [
        {
          "output_type": "error",
          "ename": "SyntaxError",
          "evalue": "invalid syntax (<ipython-input-41-31840c159d7e>, line 1)",
          "traceback": [
            "\u001b[0;36m  File \u001b[0;32m\"<ipython-input-41-31840c159d7e>\"\u001b[0;36m, line \u001b[0;32m1\u001b[0m\n\u001b[0;31m    print(f\"My name is {firstName} {lastName}, and I am {myAge} years old.\")\u001b[0m\n\u001b[0m                                                                          ^\u001b[0m\n\u001b[0;31mSyntaxError\u001b[0m\u001b[0;31m:\u001b[0m invalid syntax\n"
          ]
        }
      ]
    },
    {
      "metadata": {
        "trusted": true
      },
      "cell_type": "code",
      "source": "myMessage = f\"My name is {firstName} {lastName}, \" \\ \n      f\"and I am {myAge} years old.\" \n\nprint(myMessage) ",
      "execution_count": 42,
      "outputs": [
        {
          "output_type": "error",
          "ename": "SyntaxError",
          "evalue": "invalid syntax (<ipython-input-42-52171d47b772>, line 1)",
          "traceback": [
            "\u001b[0;36m  File \u001b[0;32m\"<ipython-input-42-52171d47b772>\"\u001b[0;36m, line \u001b[0;32m1\u001b[0m\n\u001b[0;31m    myMessage = f\"My name is {firstName} {lastName}, \" \\\u001b[0m\n\u001b[0m                                                     ^\u001b[0m\n\u001b[0;31mSyntaxError\u001b[0m\u001b[0;31m:\u001b[0m invalid syntax\n"
          ]
        }
      ]
    }
  ],
  "metadata": {
    "kernelspec": {
      "name": "python3",
      "display_name": "Python 3",
      "language": "python"
    },
    "language_info": {
      "mimetype": "text/x-python",
      "nbconvert_exporter": "python",
      "name": "python",
      "pygments_lexer": "ipython3",
      "version": "3.5.4",
      "file_extension": ".py",
      "codemirror_mode": {
        "version": 3,
        "name": "ipython"
      }
    },
    "toc": {
      "nav_menu": {},
      "number_sections": true,
      "sideBar": true,
      "skip_h1_title": false,
      "base_numbering": 1,
      "title_cell": "Table of Contents",
      "title_sidebar": "Contents",
      "toc_cell": false,
      "toc_position": {},
      "toc_section_display": true,
      "toc_window_display": true
    }
  },
  "nbformat": 4,
  "nbformat_minor": 2
}